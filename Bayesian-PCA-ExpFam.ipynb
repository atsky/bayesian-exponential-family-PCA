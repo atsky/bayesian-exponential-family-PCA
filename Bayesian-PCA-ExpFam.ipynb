{
 "cells": [
  {
   "cell_type": "code",
   "execution_count": 56,
   "metadata": {},
   "outputs": [],
   "source": [
    "from theano import theano, tensor as tt\n",
    "import pymc3 as pm\n",
    "import pandas as pd\n",
    "from sklearn import datasets\n",
    "import numpy as np\n",
    "from numpy import random\n",
    "import pylab as plt\n",
    "import seaborn as sns\n",
    "import warnings\n",
    "import scipy.stats as stats\n",
    "warnings.filterwarnings('ignore')\n",
    "%matplotlib inline"
   ]
  },
  {
   "cell_type": "code",
   "execution_count": 57,
   "metadata": {},
   "outputs": [],
   "source": [
    "t = np.random.normal(loc=0.0, scale=1.0, size=(150, 2))\n",
    "v = np.random.normal(loc=0.0, scale=1.0, size=(2, 10))\n",
    "m = np.matrix(t)*np.matrix(v)\n",
    "p = 1/(1+np.exp(-m))\n",
    "b = np.random.binomial(1, p)"
   ]
  },
  {
   "cell_type": "code",
   "execution_count": null,
   "metadata": {
    "collapsed": true
   },
   "outputs": [],
   "source": [
    ""
   ]
  }
 ],
 "metadata": {
  "kernelspec": {
   "display_name": "Python 3",
   "language": "python",
   "name": "python3"
  },
  "language_info": {
   "codemirror_mode": {
    "name": "ipython",
    "version": 3.0
   },
   "file_extension": ".py",
   "mimetype": "text/x-python",
   "name": "python",
   "nbconvert_exporter": "python",
   "pygments_lexer": "ipython3",
   "version": "3.6.1"
  }
 },
 "nbformat": 4,
 "nbformat_minor": 0
}