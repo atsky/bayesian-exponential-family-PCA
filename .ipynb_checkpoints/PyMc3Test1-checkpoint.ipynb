{
 "cells": [
  {
   "cell_type": "code",
   "execution_count": null,
   "metadata": {
    "collapsed": true
   },
   "outputs": [],
   "source": []
  },
  {
   "cell_type": "code",
   "execution_count": null,
   "metadata": {
    "collapsed": true
   },
   "outputs": [],
   "source": [
    "from theano import theano, tensor as tt\n",
    "import pymc3 as pm\n",
    "import pandas as pd\n",
    "from sklearn import datasets\n",
    "import numpy as np\n",
    "from numpy import random\n",
    "import pylab as plt\n",
    "import seaborn as sns\n",
    "import warnings\n",
    "import scipy.stats as stats\n",
    "warnings.filterwarnings('ignore')\n",
    "%matplotlib inline\n",
    "plt.mpl.style.use('ggplot')"
   ]
  },
  {
   "cell_type": "code",
   "execution_count": null,
   "metadata": {
    "collapsed": true
   },
   "outputs": [],
   "source": [
    "# первая составляет нужное распределение\n",
    "def posterior(t, f):\n",
    "    \"\"\"\n",
    "    t : орел\n",
    "    f : решка\n",
    "    \"\"\"\n",
    "    return stats.beta(a=t+1, b=f+1)\n",
    "\n",
    "# вторая рисует график плотности\n",
    "def plot_pdf(dist, ax, c):\n",
    "    space = np.linspace(0, 1)\n",
    "    pdf = dist.pdf(space)\n",
    "    ax.plot(space, pdf, c=c, alpha=.5)\n",
    "    return ax"
   ]
  },
  {
   "cell_type": "code",
   "execution_count": null,
   "metadata": {},
   "outputs": [],
   "source": [
    "# Данные\n",
    "true_p = .3 # Истинная вероятность получить \"Орла\"\n",
    "random.seed(42) # для воспроизводимости данных\n",
    "trials = np.random.uniform(size=100) < true_p # Бинарная переменная, где 1 это орел\n",
    "# Составляем пары [t, f]\n",
    "observed = np.array(list(zip(np.cumsum(trials), np.arange(1, trials.size+1) - np.cumsum(trials))))\n",
    "observed[:6]"
   ]
  },
  {
   "cell_type": "code",
   "execution_count": null,
   "metadata": {},
   "outputs": [],
   "source": [
    "fig, ax = plt.subplots(figsize=(15, 5))\n",
    "cmap = plt.get_cmap('cool')\n",
    "plot_pdf(posterior(0, 0), ax, cmap(0))\n",
    "for (t, f), c in zip(observed, np.linspace(0, 1, num=observed.shape[0])):\n",
    "    plot_pdf(posterior(t, f), ax, cmap(c))\n",
    "plt.title('Эволюция апостериорного распределения вероятности выпадения орла')\n",
    "plt.show()"
   ]
  },
  {
   "cell_type": "code",
   "execution_count": null,
   "metadata": {},
   "outputs": [],
   "source": [
    "with pm.Model() as simple_model:\n",
    "    # По соглашению все случайные переменные должны иметь уникальные имена\n",
    "    # Параметры распределения надо передавать после строкового имени\n",
    "    norm = pm.Normal('norm', 0, 1)\n",
    "\n",
    "    # не подбирать параметры для MCMC метода NUTS\n",
    "    step = pm.NUTS()\n",
    "    trace = pm.sample(1000, step=step)\n",
    "    # Обратите внимание на количество итераций в секунду: оно будет уменьшаться по мере усложнения модели"
   ]
  },
  {
   "cell_type": "code",
   "execution_count": null,
   "metadata": {},
   "outputs": [],
   "source": [
    "pm.traceplot(trace);"
   ]
  },
  {
   "cell_type": "code",
   "execution_count": null,
   "metadata": {
    "collapsed": true
   },
   "outputs": [],
   "source": []
  },
  {
   "cell_type": "code",
   "execution_count": null,
   "metadata": {
    "collapsed": true
   },
   "outputs": [],
   "source": []
  }
 ],
 "metadata": {
  "kernelspec": {
   "display_name": "Python 3",
   "language": "python",
   "name": "python3"
  },
  "language_info": {
   "codemirror_mode": {
    "name": "ipython",
    "version": 3
   },
   "file_extension": ".py",
   "mimetype": "text/x-python",
   "name": "python",
   "nbconvert_exporter": "python",
   "pygments_lexer": "ipython3",
   "version": "3.6.1"
  }
 },
 "nbformat": 4,
 "nbformat_minor": 1
}
